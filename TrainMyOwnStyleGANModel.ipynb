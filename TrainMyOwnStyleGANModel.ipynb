{
  "nbformat": 4,
  "nbformat_minor": 0,
  "metadata": {
    "colab": {
      "name": "TrainMyOwnStyleGANModel.ipynb",
      "provenance": [],
      "mount_file_id": "1lOfxvvOrA_cbzkhBi2BW6QjbAUAvS9lU",
      "authorship_tag": "ABX9TyOI5NfjxiCxzZ8EEFSk8pPl",
      "include_colab_link": true
    },
    "kernelspec": {
      "name": "python3",
      "display_name": "Python 3"
    },
    "language_info": {
      "name": "python"
    },
    "accelerator": "GPU"
  },
  "cells": [
    {
      "cell_type": "markdown",
      "metadata": {
        "id": "view-in-github",
        "colab_type": "text"
      },
      "source": [
        "<a href=\"https://colab.research.google.com/github/AmrAlaaFCIH/StyleGAN2/blob/main/TrainMyOwnStyleGANModel.ipynb\" target=\"_parent\"><img src=\"https://colab.research.google.com/assets/colab-badge.svg\" alt=\"Open In Colab\"/></a>"
      ]
    },
    {
      "cell_type": "code",
      "metadata": {
        "colab": {
          "base_uri": "https://localhost:8080/"
        },
        "id": "c1OostZnykPS",
        "outputId": "16dc931d-1e1a-4607-cc7a-d3c8fd928677"
      },
      "source": [
        "cd /content/drive/MyDrive"
      ],
      "execution_count": 1,
      "outputs": [
        {
          "output_type": "stream",
          "text": [
            "/content/drive/MyDrive\n"
          ],
          "name": "stdout"
        }
      ]
    },
    {
      "cell_type": "code",
      "metadata": {
        "colab": {
          "base_uri": "https://localhost:8080/"
        },
        "id": "teom3RZjy04X",
        "outputId": "f9e54fa0-a3e9-4b7d-96f2-3e0a0c4d356c"
      },
      "source": [
        "%tensorflow_version 1.x\n",
        "#because Nividia StyleGAN 2 only works with tensorflow 1"
      ],
      "execution_count": 2,
      "outputs": [
        {
          "output_type": "stream",
          "text": [
            "TensorFlow 1.x selected.\n"
          ],
          "name": "stdout"
        }
      ]
    },
    {
      "cell_type": "code",
      "metadata": {
        "colab": {
          "base_uri": "https://localhost:8080/"
        },
        "id": "hAlmbouuy1t-",
        "outputId": "ed7903c7-a242-4a7b-d000-04e7483b2deb"
      },
      "source": [
        "!git clone https://github.com/NVlabs/stylegan2-ada.git"
      ],
      "execution_count": null,
      "outputs": [
        {
          "output_type": "stream",
          "text": [
            "Cloning into 'stylegan2-ada'...\n",
            "remote: Enumerating objects: 71, done.\u001b[K\n",
            "remote: Total 71 (delta 0), reused 0 (delta 0), pack-reused 71\u001b[K\n",
            "Unpacking objects: 100% (71/71), done.\n"
          ],
          "name": "stdout"
        }
      ]
    },
    {
      "cell_type": "code",
      "metadata": {
        "colab": {
          "base_uri": "https://localhost:8080/"
        },
        "id": "QdZAO1uhzmSj",
        "outputId": "69723b03-4a66-4fdf-8780-654714ee1a43"
      },
      "source": [
        "%cd stylegan2-ada/\n",
        "!mkdir downloads\n",
        "!mkdir datasets"
      ],
      "execution_count": 62,
      "outputs": [
        {
          "output_type": "stream",
          "text": [
            "/content/drive/My Drive/stylegan2-ada\n",
            "mkdir: cannot create directory ‘downloads’: File exists\n"
          ],
          "name": "stdout"
        }
      ]
    },
    {
      "cell_type": "code",
      "metadata": {
        "colab": {
          "base_uri": "https://localhost:8080/"
        },
        "id": "WiPAuDquEYD7",
        "outputId": "b54c86a0-0e28-4898-f6f5-6a56a716c780"
      },
      "source": [
        "dataset_path = \"cats/CAT\"\n",
        "dataset_name = \"cat512\"\n",
        "\n",
        "!python dataset_tool.py create_from_images ./datasets/{dataset_name} {dataset_path}"
      ],
      "execution_count": 63,
      "outputs": [
        {
          "output_type": "stream",
          "text": [
            "Loading images from \"cats/CAT\"\n",
            "Creating dataset \"./datasets/cat512\"\n",
            "dataset_tool.py:96: DeprecationWarning: tostring() is deprecated. Use tobytes() instead.\n",
            "  'data': tf.train.Feature(bytes_list=tf.train.BytesList(value=[quant.tostring()]))}))\n",
            "Added 1706 images.\n"
          ],
          "name": "stdout"
        }
      ]
    },
    {
      "cell_type": "code",
      "metadata": {
        "colab": {
          "base_uri": "https://localhost:8080/"
        },
        "id": "w51E4yhqFGXC",
        "outputId": "e413b5e6-82de-4eae-cb12-a572d3e026d4"
      },
      "source": [
        "#this name must EXACTLY match the dataset name you used when creating the .tfrecords file\n",
        "dataset_name = \"cat512\"\n",
        "#how often should the model generate samples and a .pkl file\n",
        "snapshot_count = 4\n",
        "#should the images be mirrored left to right?\n",
        "mirrored = True\n",
        "#metrics? \n",
        "metric_list = None\n",
        "#augments\n",
        "augs = \"bg\"\n",
        "\n",
        "#\n",
        "# this is the most important cell to update\n",
        "#\n",
        "# running it for the first time? set it to ffhq(+resolution)\n",
        "# resuming? get the path to your latest .pkl file and use that\n",
        "resume_from = \"ffhq512\"\n",
        "\n",
        "#don't edit this unless you know what you're doing :)\n",
        "!python train.py --outdir ./results --snap={snapshot_count} --cfg=paper512 --data=./datasets/{dataset_name} --augpipe={augs} --mirror={mirrored}  --metrics={metric_list} --resume={resume_from} --augpipe=\"bg\""
      ],
      "execution_count": 67,
      "outputs": [
        {
          "output_type": "stream",
          "text": [
            "tcmalloc: large alloc 4294967296 bytes == 0x55cdb144e000 @  0x7fc1a66ce001 0x7fc1a391154f 0x7fc1a3961b58 0x7fc1a3965b17 0x7fc1a3a04203 0x55cda9bc8d54 0x55cda9bc8a50 0x55cda9c3d105 0x55cda9c377ad 0x55cda9bcac9f 0x55cda9c0bd79 0x55cda9c08cc4 0x55cda9bc9559 0x55cda9c3d4f8 0x55cda9c374ae 0x55cda9b09e2c 0x55cda9c39bb5 0x55cda9c374ae 0x55cda9b09e2c 0x55cda9c39bb5 0x55cda9c377ad 0x55cda9b09e2c 0x55cda9c39bb5 0x55cda9bca30a 0x55cda9c383b5 0x55cda9c374ae 0x55cda9c371b3 0x55cda9d01182 0x55cda9d014fd 0x55cda9d013a6 0x55cda9cd8723\n",
            "tcmalloc: large alloc 4294967296 bytes == 0x55ceb144e000 @  0x7fc1a66cc1e7 0x7fc1a391146e 0x7fc1a3961c7b 0x7fc1a396235f 0x7fc1a3a04103 0x55cda9bc8d54 0x55cda9bc8a50 0x55cda9c3d105 0x55cda9c374ae 0x55cda9bca3ea 0x55cda9c3932a 0x55cda9c374ae 0x55cda9bca3ea 0x55cda9c3932a 0x55cda9c374ae 0x55cda9bca3ea 0x55cda9c3932a 0x55cda9bca30a 0x55cda9c383b5 0x55cda9c374ae 0x55cda9bca3ea 0x55cda9c3c7f0 0x55cda9c374ae 0x55cda9bca3ea 0x55cda9c3932a 0x55cda9c377ad 0x55cda9bcac9f 0x55cda9c0bd79 0x55cda9c08cc4 0x55cda9bc9559 0x55cda9c3d4f8\n",
            "tcmalloc: large alloc 4294967296 bytes == 0x55cfb253c000 @  0x7fc1a66cc1e7 0x7fc1a391146e 0x7fc1a3961c7b 0x7fc1a396235f 0x7fc1602d3235 0x7fc15fc56792 0x7fc15fc56d42 0x7fc15fc0faee 0x55cda9bc8c47 0x55cda9bc8a50 0x55cda9c3cbe0 0x55cda9bca30a 0x55cda9c3860e 0x55cda9c377ad 0x55cda9b09eb1 0x55cda9c39bb5 0x55cda9c374ae 0x55cda9bca3ea 0x55cda9c3860e 0x55cda9c377ad 0x55cda9bca3ea 0x55cda9c3860e 0x55cda9bca30a 0x55cda9c3860e 0x55cda9c374ae 0x55cda9bcaa81 0x55cda9bcaea1 0x55cda9c39bb5 0x55cda9c374ae 0x55cda9bca3ea 0x55cda9c383b5\n",
            "\n",
            "Training options:\n",
            "{\n",
            "  \"G_args\": {\n",
            "    \"func_name\": \"training.networks.G_main\",\n",
            "    \"fmap_base\": 16384,\n",
            "    \"fmap_max\": 512,\n",
            "    \"mapping_layers\": 8,\n",
            "    \"num_fp16_res\": 4,\n",
            "    \"conv_clamp\": 256\n",
            "  },\n",
            "  \"D_args\": {\n",
            "    \"func_name\": \"training.networks.D_main\",\n",
            "    \"mbstd_group_size\": 8,\n",
            "    \"fmap_base\": 16384,\n",
            "    \"fmap_max\": 512,\n",
            "    \"num_fp16_res\": 4,\n",
            "    \"conv_clamp\": 256\n",
            "  },\n",
            "  \"G_opt_args\": {\n",
            "    \"beta1\": 0.0,\n",
            "    \"beta2\": 0.99,\n",
            "    \"learning_rate\": 0.0025\n",
            "  },\n",
            "  \"D_opt_args\": {\n",
            "    \"beta1\": 0.0,\n",
            "    \"beta2\": 0.99,\n",
            "    \"learning_rate\": 0.0025\n",
            "  },\n",
            "  \"loss_args\": {\n",
            "    \"func_name\": \"training.loss.stylegan2\",\n",
            "    \"r1_gamma\": 0.5\n",
            "  },\n",
            "  \"augment_args\": {\n",
            "    \"class_name\": \"training.augment.AdaptiveAugment\",\n",
            "    \"tune_heuristic\": \"rt\",\n",
            "    \"tune_target\": 0.6,\n",
            "    \"apply_func\": \"training.augment.augment_pipeline\",\n",
            "    \"apply_args\": {\n",
            "      \"xflip\": 1,\n",
            "      \"rotate90\": 1,\n",
            "      \"xint\": 1,\n",
            "      \"scale\": 1,\n",
            "      \"rotate\": 1,\n",
            "      \"aniso\": 1,\n",
            "      \"xfrac\": 1\n",
            "    },\n",
            "    \"tune_kimg\": 100\n",
            "  },\n",
            "  \"num_gpus\": 1,\n",
            "  \"image_snapshot_ticks\": 4,\n",
            "  \"network_snapshot_ticks\": 4,\n",
            "  \"train_dataset_args\": {\n",
            "    \"path\": \"./datasets/cat512\",\n",
            "    \"max_label_size\": 0,\n",
            "    \"resolution\": 512,\n",
            "    \"mirror_augment\": true\n",
            "  },\n",
            "  \"metric_arg_list\": [],\n",
            "  \"metric_dataset_args\": {\n",
            "    \"path\": \"./datasets/cat512\",\n",
            "    \"max_label_size\": 0,\n",
            "    \"resolution\": 512,\n",
            "    \"mirror_augment\": true\n",
            "  },\n",
            "  \"total_kimg\": 25000,\n",
            "  \"minibatch_size\": 64,\n",
            "  \"minibatch_gpu\": 8,\n",
            "  \"G_smoothing_kimg\": 20,\n",
            "  \"G_smoothing_rampup\": null,\n",
            "  \"resume_pkl\": \"https://nvlabs-fi-cdn.nvidia.com/stylegan2-ada/pretrained/transfer-learning-source-nets/ffhq-res512-mirror-stylegan2-noaug.pkl\",\n",
            "  \"run_dir\": \"./results/00001-cat512-mirror-paper512-bg-resumeffhq512\"\n",
            "}\n",
            "\n",
            "Output directory:  ./results/00001-cat512-mirror-paper512-bg-resumeffhq512\n",
            "Training data:     ./datasets/cat512\n",
            "Training length:   25000 kimg\n",
            "Resolution:        512\n",
            "Number of GPUs:    1\n",
            "\n",
            "Creating output directory...\n",
            "Loading training set...\n",
            "tcmalloc: large alloc 4294967296 bytes == 0x55cdb138c000 @  0x7fc1a66ce001 0x7fc1a391154f 0x7fc1a3961b58 0x7fc1a3965b17 0x7fc1a3a04203 0x55cda9bc8d54 0x55cda9bc8a50 0x55cda9c3d105 0x55cda9c377ad 0x55cda9bcac9f 0x55cda9c0bd79 0x55cda9c08cc4 0x55cda9bc9559 0x55cda9c3d4f8 0x55cda9c374ae 0x55cda9b09e2c 0x55cda9c39bb5 0x55cda9c374ae 0x55cda9b09e2c 0x55cda9c39bb5 0x55cda9c377ad 0x55cda9b09e2c 0x55cda9c39bb5 0x55cda9bca30a 0x55cda9c383b5 0x55cda9c374ae 0x55cda9c371b3 0x55cda9d01182 0x55cda9d014fd 0x55cda9d013a6 0x55cda9cd8723\n",
            "tcmalloc: large alloc 4294967296 bytes == 0x55d0b253c000 @  0x7fc1a66cc1e7 0x7fc1a391146e 0x7fc1a3961c7b 0x7fc1a396235f 0x7fc1a3a04103 0x55cda9bc8d54 0x55cda9bc8a50 0x55cda9c3d105 0x55cda9c374ae 0x55cda9bca3ea 0x55cda9c3932a 0x55cda9c374ae 0x55cda9bca3ea 0x55cda9c3932a 0x55cda9c374ae 0x55cda9bca3ea 0x55cda9c3932a 0x55cda9bca30a 0x55cda9c383b5 0x55cda9c374ae 0x55cda9bca3ea 0x55cda9c3c7f0 0x55cda9c374ae 0x55cda9bca3ea 0x55cda9c3932a 0x55cda9c377ad 0x55cda9bcac9f 0x55cda9c0bd79 0x55cda9c08cc4 0x55cda9bc9559 0x55cda9c3d4f8\n",
            "tcmalloc: large alloc 4294967296 bytes == 0x55d0b253c000 @  0x7fc1a66cc1e7 0x7fc1a391146e 0x7fc1a3961c7b 0x7fc1a396235f 0x7fc1602d3235 0x7fc15fc56792 0x7fc15fc56d42 0x7fc15fc0faee 0x55cda9bc8c47 0x55cda9bc8a50 0x55cda9c3cbe0 0x55cda9bca30a 0x55cda9c3860e 0x55cda9c377ad 0x55cda9b09eb1 0x55cda9c39bb5 0x55cda9c374ae 0x55cda9bca3ea 0x55cda9c3860e 0x55cda9c377ad 0x55cda9bca3ea 0x55cda9c3860e 0x55cda9bca30a 0x55cda9c3860e 0x55cda9c374ae 0x55cda9bcaa81 0x55cda9bcaea1 0x55cda9c39bb5 0x55cda9c374ae 0x55cda9bca3ea 0x55cda9c383b5\n",
            "Image shape: [3, 512, 512]\n",
            "Label shape: [0]\n",
            "\n",
            "Constructing networks...\n",
            "Setting up TensorFlow plugin \"fused_bias_act.cu\": Loading... Done.\n",
            "Setting up TensorFlow plugin \"upfirdn_2d.cu\": Loading... Done.\n",
            "Resuming from \"https://nvlabs-fi-cdn.nvidia.com/stylegan2-ada/pretrained/transfer-learning-source-nets/ffhq-res512-mirror-stylegan2-noaug.pkl\"\n",
            "\n",
            "G                             Params    OutputShape         WeightShape     \n",
            "---                           ---       ---                 ---             \n",
            "latents_in                    -         (?, 512)            -               \n",
            "labels_in                     -         (?, 0)              -               \n",
            "G_mapping/Normalize           -         (?, 512)            -               \n",
            "G_mapping/Dense0              262656    (?, 512)            (512, 512)      \n",
            "G_mapping/Dense1              262656    (?, 512)            (512, 512)      \n",
            "G_mapping/Dense2              262656    (?, 512)            (512, 512)      \n",
            "G_mapping/Dense3              262656    (?, 512)            (512, 512)      \n",
            "G_mapping/Dense4              262656    (?, 512)            (512, 512)      \n",
            "G_mapping/Dense5              262656    (?, 512)            (512, 512)      \n",
            "G_mapping/Dense6              262656    (?, 512)            (512, 512)      \n",
            "G_mapping/Dense7              262656    (?, 512)            (512, 512)      \n",
            "G_mapping/Broadcast           -         (?, 16, 512)        -               \n",
            "dlatent_avg                   -         (512,)              -               \n",
            "Truncation/Lerp               -         (?, 16, 512)        -               \n",
            "G_synthesis/4x4/Const         8192      (?, 512, 4, 4)      (1, 512, 4, 4)  \n",
            "G_synthesis/4x4/Conv          2622465   (?, 512, 4, 4)      (3, 3, 512, 512)\n",
            "G_synthesis/4x4/ToRGB         264195    (?, 3, 4, 4)        (1, 1, 512, 3)  \n",
            "G_synthesis/8x8/Conv0_up      2622465   (?, 512, 8, 8)      (3, 3, 512, 512)\n",
            "G_synthesis/8x8/Conv1         2622465   (?, 512, 8, 8)      (3, 3, 512, 512)\n",
            "G_synthesis/8x8/Upsample      -         (?, 3, 8, 8)        -               \n",
            "G_synthesis/8x8/ToRGB         264195    (?, 3, 8, 8)        (1, 1, 512, 3)  \n",
            "G_synthesis/16x16/Conv0_up    2622465   (?, 512, 16, 16)    (3, 3, 512, 512)\n",
            "G_synthesis/16x16/Conv1       2622465   (?, 512, 16, 16)    (3, 3, 512, 512)\n",
            "G_synthesis/16x16/Upsample    -         (?, 3, 16, 16)      -               \n",
            "G_synthesis/16x16/ToRGB       264195    (?, 3, 16, 16)      (1, 1, 512, 3)  \n",
            "G_synthesis/32x32/Conv0_up    2622465   (?, 512, 32, 32)    (3, 3, 512, 512)\n",
            "G_synthesis/32x32/Conv1       2622465   (?, 512, 32, 32)    (3, 3, 512, 512)\n",
            "G_synthesis/32x32/Upsample    -         (?, 3, 32, 32)      -               \n",
            "G_synthesis/32x32/ToRGB       264195    (?, 3, 32, 32)      (1, 1, 512, 3)  \n",
            "G_synthesis/64x64/Conv0_up    2622465   (?, 512, 64, 64)    (3, 3, 512, 512)\n",
            "G_synthesis/64x64/Conv1       2622465   (?, 512, 64, 64)    (3, 3, 512, 512)\n",
            "G_synthesis/64x64/Upsample    -         (?, 3, 64, 64)      -               \n",
            "G_synthesis/64x64/ToRGB       264195    (?, 3, 64, 64)      (1, 1, 512, 3)  \n",
            "G_synthesis/128x128/Conv0_up  1442561   (?, 256, 128, 128)  (3, 3, 512, 256)\n",
            "G_synthesis/128x128/Conv1     721409    (?, 256, 128, 128)  (3, 3, 256, 256)\n",
            "G_synthesis/128x128/Upsample  -         (?, 3, 128, 128)    -               \n",
            "G_synthesis/128x128/ToRGB     132099    (?, 3, 128, 128)    (1, 1, 256, 3)  \n",
            "G_synthesis/256x256/Conv0_up  426369    (?, 128, 256, 256)  (3, 3, 256, 128)\n",
            "G_synthesis/256x256/Conv1     213249    (?, 128, 256, 256)  (3, 3, 128, 128)\n",
            "G_synthesis/256x256/Upsample  -         (?, 3, 256, 256)    -               \n",
            "G_synthesis/256x256/ToRGB     66051     (?, 3, 256, 256)    (1, 1, 128, 3)  \n",
            "G_synthesis/512x512/Conv0_up  139457    (?, 64, 512, 512)   (3, 3, 128, 64) \n",
            "G_synthesis/512x512/Conv1     69761     (?, 64, 512, 512)   (3, 3, 64, 64)  \n",
            "G_synthesis/512x512/Upsample  -         (?, 3, 512, 512)    -               \n",
            "G_synthesis/512x512/ToRGB     33027     (?, 3, 512, 512)    (1, 1, 64, 3)   \n",
            "---                           ---       ---                 ---             \n",
            "Total                         30276583                                      \n",
            "\n",
            "\n",
            "D                    Params    OutputShape         WeightShape     \n",
            "---                  ---       ---                 ---             \n",
            "images_in            -         (?, 3, 512, 512)    -               \n",
            "labels_in            -         (?, 0)              -               \n",
            "512x512/FromRGB      256       (?, 64, 512, 512)   (1, 1, 3, 64)   \n",
            "512x512/Conv0        36928     (?, 64, 512, 512)   (3, 3, 64, 64)  \n",
            "512x512/Conv1_down   73856     (?, 128, 256, 256)  (3, 3, 64, 128) \n",
            "512x512/Skip         8192      (?, 128, 256, 256)  (1, 1, 64, 128) \n",
            "256x256/Conv0        147584    (?, 128, 256, 256)  (3, 3, 128, 128)\n",
            "256x256/Conv1_down   295168    (?, 256, 128, 128)  (3, 3, 128, 256)\n",
            "256x256/Skip         32768     (?, 256, 128, 128)  (1, 1, 128, 256)\n",
            "128x128/Conv0        590080    (?, 256, 128, 128)  (3, 3, 256, 256)\n",
            "128x128/Conv1_down   1180160   (?, 512, 64, 64)    (3, 3, 256, 512)\n",
            "128x128/Skip         131072    (?, 512, 64, 64)    (1, 1, 256, 512)\n",
            "64x64/Conv0          2359808   (?, 512, 64, 64)    (3, 3, 512, 512)\n",
            "64x64/Conv1_down     2359808   (?, 512, 32, 32)    (3, 3, 512, 512)\n",
            "64x64/Skip           262144    (?, 512, 32, 32)    (1, 1, 512, 512)\n",
            "32x32/Conv0          2359808   (?, 512, 32, 32)    (3, 3, 512, 512)\n",
            "32x32/Conv1_down     2359808   (?, 512, 16, 16)    (3, 3, 512, 512)\n",
            "32x32/Skip           262144    (?, 512, 16, 16)    (1, 1, 512, 512)\n",
            "16x16/Conv0          2359808   (?, 512, 16, 16)    (3, 3, 512, 512)\n",
            "16x16/Conv1_down     2359808   (?, 512, 8, 8)      (3, 3, 512, 512)\n",
            "16x16/Skip           262144    (?, 512, 8, 8)      (1, 1, 512, 512)\n",
            "8x8/Conv0            2359808   (?, 512, 8, 8)      (3, 3, 512, 512)\n",
            "8x8/Conv1_down       2359808   (?, 512, 4, 4)      (3, 3, 512, 512)\n",
            "8x8/Skip             262144    (?, 512, 4, 4)      (1, 1, 512, 512)\n",
            "4x4/MinibatchStddev  -         (?, 513, 4, 4)      -               \n",
            "4x4/Conv             2364416   (?, 512, 4, 4)      (3, 3, 513, 512)\n",
            "4x4/Dense0           4194816   (?, 512)            (8192, 512)     \n",
            "Output               513       (?, 1)              (512, 1)        \n",
            "---                  ---       ---                 ---             \n",
            "Total                28982849                                      \n",
            "\n",
            "Exporting sample images...\n",
            "Replicating networks across 1 GPUs...\n",
            "Initializing augmentations...\n",
            "Setting up optimizers...\n",
            "Constructing training graph...\n",
            "Finalizing training ops...\n",
            "Initializing metrics...\n",
            "Training for 25000 kimg...\n",
            "\n",
            "tick 0     kimg 0.3      time 5m 00s       sec/tick 136.5   sec/kimg 533.03  maintenance 163.9  gpumem 10.0  augment 0.003\n",
            "^C\n"
          ],
          "name": "stdout"
        }
      ]
    },
    {
      "cell_type": "code",
      "metadata": {
        "id": "2xVNZFsQSyXC"
      },
      "source": [
        ""
      ],
      "execution_count": null,
      "outputs": []
    }
  ]
}